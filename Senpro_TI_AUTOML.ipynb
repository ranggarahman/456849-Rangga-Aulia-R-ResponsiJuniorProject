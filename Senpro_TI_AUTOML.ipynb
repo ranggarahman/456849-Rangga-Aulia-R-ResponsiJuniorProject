{
  "nbformat": 4,
  "nbformat_minor": 0,
  "metadata": {
    "colab": {
      "provenance": [],
      "toc_visible": true,
      "include_colab_link": true
    },
    "kernelspec": {
      "name": "python3",
      "display_name": "Python 3"
    },
    "language_info": {
      "name": "python"
    }
  },
  "cells": [
    {
      "cell_type": "markdown",
      "metadata": {
        "id": "view-in-github",
        "colab_type": "text"
      },
      "source": [
        "<a href=\"https://colab.research.google.com/github/ranggarahman/456849-Rangga-Aulia-R-ResponsiJuniorProject/blob/master/Senpro_TI_AUTOML.ipynb\" target=\"_parent\"><img src=\"https://colab.research.google.com/assets/colab-badge.svg\" alt=\"Open In Colab\"/></a>"
      ]
    },
    {
      "cell_type": "markdown",
      "source": [
        "# Modul 7 - AutoML"
      ],
      "metadata": {
        "id": "wkKGTka6zrZ5"
      }
    },
    {
      "cell_type": "markdown",
      "source": [
        "## Instalasi Autogluon\n",
        "*Modul ini bersumber dari dokumentasi situs Autogluon dengan beberapa modifikasi.*\n",
        "\n",
        "Pada bagian ini, Anda akan menginstall AutoGluon di local komputer Anda, dalam kasus ini kita akan menggunakan Google Colab sebagai mesin komputasinya. \n",
        "Jalankan kode berikut untuk menginstall Autogluon menggunakan package manager PIP."
      ],
      "metadata": {
        "id": "P-9myzhmBGrj"
      }
    },
    {
      "cell_type": "code",
      "execution_count": null,
      "metadata": {
        "id": "Z8CNwpWbmGEi"
      },
      "outputs": [],
      "source": [
        "!python -m pip install --upgrade pip\n",
        "!python -m pip install autogluon"
      ]
    },
    {
      "cell_type": "markdown",
      "source": [
        "## AutoML dengan kasus tabular dataset\n",
        "Dalam parktikum ini, kita akan  menggunakan `TabularPredictor` di library AutoGluon untuk memprediksi nilai kolom target berdasarkan kolom lain dalam kumpulan data tabular. Selain data tabular AutoGluon dapat digunakan pada tipe data yang lain seperti citra, teks, audio, dan yang lainnya. Anda diharapkan bisa bereksplorasi dengan tipe data yang lain.\n",
        "\n",
        "Pastikan AutoGluon tealah diinstal, lalu import `TabularDataset` dan `TabularPredictor` dari AutoGluon. Proses yang akan dilalui diawali dengan proses untuk memuat data lalu melatih model dan membuat prediksi."
      ],
      "metadata": {
        "id": "5NRwxMulB0HA"
      }
    },
    {
      "cell_type": "code",
      "source": [
        "from autogluon.tabular import TabularDataset, TabularPredictor"
      ],
      "metadata": {
        "id": "8MauZMMxB_wm"
      },
      "execution_count": null,
      "outputs": []
    },
    {
      "cell_type": "markdown",
      "source": [
        "## Dataset \n",
        "kita akan menggunakan dataset dari  [Nature issue 7887](https://www.nature.com/nature/volumes/600/issues/7887): [AI-guided intuition for math theorems](https://www.nature.com/articles/s41586-021-04086-x.pdf). Tujuannya adalah untuk memprediksi *signature* berdasarkan atribut-atribut penjelasnya. Kita mengambil  10 ribu sampel sebagai data latih dan 5 ribu sampel sebagai data uji [data asli](https://github.com/deepmind/mathematics_conjectures/blob/main/knot_theory.ipynb). Dengan sampel yang lebih kecil dari data asli akan mempercepat praktikum ini, namun AutoGluon dapat menangani kumpulan data lengkap jika diinginkan.\n",
        "\n",
        "Dataset ini dapat langsung dimuat dari URL yang diberikan. `TabularDataset` AutoGluon adalah subkelas pandas [DataFrame](https://pandas.pydata.org/docs/reference/api/pandas.DataFrame.html), sehingga metode `DataFrame` apa pun dapat digunakan pada `TabularDataset`.\n",
        "\n",
        "Silakan jalankan dan scroll ke kanan untuk melihat seluruh kolom dan label signature dari dataset ini.\n",
        "\n"
      ],
      "metadata": {
        "id": "BN7qduQsC0-d"
      }
    },
    {
      "cell_type": "code",
      "source": [
        "data_url = 'https://raw.githubusercontent.com/mli/ag-docs/main/knot_theory/'\n",
        "train_data = TabularDataset(f'{data_url}train.csv')\n",
        "train_data.head()"
      ],
      "metadata": {
        "id": "L8NiNfY-DTbd"
      },
      "execution_count": null,
      "outputs": []
    },
    {
      "cell_type": "markdown",
      "source": [
        "Target kita adalah kolom \"signature\", yang memiliki 18 bilangan bulat unik. Meskipun pandas tidak mengenali tipe data ini dengan benar sebagai kategorikal, AutoGluon akan memperbaiki masalah ini secara otomatis."
      ],
      "metadata": {
        "id": "mcNjnGiyJTso"
      }
    },
    {
      "cell_type": "code",
      "source": [
        "# nama kolom target\n",
        "label = 'signature'\n",
        "train_data[label].describe()"
      ],
      "metadata": {
        "id": "zbXBdQMnJjvj"
      },
      "execution_count": null,
      "outputs": []
    },
    {
      "cell_type": "markdown",
      "source": [
        "## Pelatihan\n",
        "\n",
        "Kita buat obyek `TabularPredictor` dengan menentukan nama kolom label, lalu melatih dataset dengan `TabularPredictor.fit()`. Kita tidak perlu menentukan parameter lain. AutoGluon akan mengenali ini sebagai tugas klasifikasi multi-kelas, melakukan rekayasa fitur otomatis, melatih beberapa model, dan kemudian menyatukan model untuk membuat predictor akhir."
      ],
      "metadata": {
        "id": "qWxUMlHjFshs"
      }
    },
    {
      "cell_type": "code",
      "source": [
        "predictor = TabularPredictor(label=label).fit(train_data)"
      ],
      "metadata": {
        "id": "tEEuYtCoJ0ru"
      },
      "execution_count": null,
      "outputs": []
    },
    {
      "cell_type": "markdown",
      "source": [
        "Pelatihan model memerlukan waktu beberapa menit atau kurang tergantung pada CPU Anda. Anda dapat membuat pelatihan lebih cepat dengan menentukan argumen `time_limit`. Misalnya, `fit(..., time_limit=60)` akan menghentikan latihan setelah 60 detik. Batas waktu yang lebih tinggi umumnya akan menghasilkan performa prediksi yang lebih baik, dan batas waktu yang terlalu rendah akan mencegah AutoGluon untuk melatih dan menggabungkan serangkaian model yang baik."
      ],
      "metadata": {
        "id": "NorXV057E7k2"
      }
    },
    {
      "cell_type": "markdown",
      "source": [
        "Dari output hasil pelatihan di atas, terdapat beberapa model yang secara otomatis dicoba oleh AutoGluon. Autogluon mendapatkan model yang paling baik seperti yang tertampil pada output console.\n",
        "Semua model (tidak hanya best model) tersimpan pada folder AutoGluon. Anda dapat melihatnya dengan mengklik icon folder di sebelah kiri, Anda akan menemukan model-model yang telah ditrain oleh AutoGluon di folder AutoGluonModels."
      ],
      "metadata": {
        "id": "H_nki-KoLDYv"
      }
    },
    {
      "cell_type": "markdown",
      "source": [
        "Anda dapat melihat sekali lagi urutan model dari hasil pelatihan dengan memanggil method leaderboard."
      ],
      "metadata": {
        "id": "jV1zPL1AMs-3"
      }
    },
    {
      "cell_type": "markdown",
      "source": [
        "### Pertanyaan 1:\n",
        "1. Sebutkan 3 Model yang paling akurat dari beberapa model yang telah dicoba di atas oleh AutoGluon?\n",
        "2. Model apa yang memiliki proses training yang paling cepat?\n",
        "3. Model apa yang memiliki proses inferensi yang paling cepat?"
      ],
      "metadata": {
        "id": "OakCUeYwLfS6"
      }
    },
    {
      "cell_type": "code",
      "source": [
        "predictor.leaderboard()"
      ],
      "metadata": {
        "id": "vyHchYHQM1Rb"
      },
      "execution_count": null,
      "outputs": []
    },
    {
      "cell_type": "markdown",
      "source": [
        "Anda dapat memuat model yang telah disimpan menggunakan perintah berikut:\n",
        "\n",
        "`predictor = TabularPredictor.load(\"AutogluonModels/ag-xxx-xxx/\")`\n",
        "\n",
        "Path silakan disesuaikan dengan hasil masing-masing"
      ],
      "metadata": {
        "id": "cQf_InUlnSAZ"
      }
    },
    {
      "cell_type": "markdown",
      "source": [
        "## Prediksi /inferensi\n",
        "\n",
        "Setelah kita memiliki model yang sesuai dengan dataset pelatihan, kita dapat memuat dataset terpisah untuk digunakan sebagai prediksi dan evaluasi."
      ],
      "metadata": {
        "id": "J2N9dmsHJ-u6"
      }
    },
    {
      "cell_type": "code",
      "source": [
        "test_data = TabularDataset(f'{data_url}test.csv')\n",
        "\n",
        "# Buang kolom label atau target pada dataset sebagai berikut\n",
        "y_pred = predictor.predict(test_data.drop(columns=[label]))\n",
        "\n",
        "# menampilkan hasil prediksi\n",
        "y_pred.head()"
      ],
      "metadata": {
        "id": "O31vMiBPE8W-"
      },
      "execution_count": null,
      "outputs": []
    },
    {
      "cell_type": "markdown",
      "source": [
        "## Evaluasi\n",
        "\n",
        "Kita dapat mengevaluasi predictor pada data uji menggunakan fungsi `evaluate()`, yang mengukur seberapa baik kinerja prediktor kita pada data yang tidak digunakan untuk menyesuaikan model."
      ],
      "metadata": {
        "id": "2nlQxMj2o3c-"
      }
    },
    {
      "cell_type": "code",
      "source": [
        "predictor.evaluate(test_data, silent=True)"
      ],
      "metadata": {
        "id": "BNQERrjDnmmP"
      },
      "execution_count": null,
      "outputs": []
    },
    {
      "cell_type": "markdown",
      "source": [
        "## Menggunakan model yang lain\n",
        "Proses prediksi dan evaluasi secara default akan menggunakan model dengan performa terbaik yang didapatkan dari data validasi saat proses training. Namun, jika kita ingin menggunakan model yang lain, kita bisa memberikan argumen `model=model_name` pada saat proses prediksi dan evaluasi. \n",
        "\n",
        "`model_name` yang dapat digunakan hanya model yang telah diikutsertakan dalam proses training. Untuk melihat model yang dapat digunakan, kita bisa melihat leaderboard seperti yang telah dilakukan sebelumnya atau memanggil method `get_model_name` pada obyek predictor.  "
      ],
      "metadata": {
        "id": "BfocoV-vpFX-"
      }
    },
    {
      "cell_type": "code",
      "source": [
        "predictor.get_model_names()\n"
      ],
      "metadata": {
        "id": "pYZVwsNXkKUA"
      },
      "execution_count": null,
      "outputs": []
    },
    {
      "cell_type": "markdown",
      "source": [
        "Prediksi dengan menggunakan XGBoost model."
      ],
      "metadata": {
        "id": "R36zCcR4qMQU"
      }
    },
    {
      "cell_type": "code",
      "source": [
        "# Buang kolom label atau target pada dataset sebagai berikut\n",
        "y_pred = predictor.predict(test_data.drop(columns=[label]),\n",
        "                           model='XGBoost')\n",
        "\n",
        "# menampilkan hasil prediksi\n",
        "y_pred.head()"
      ],
      "metadata": {
        "id": "8Jp1iAzwoXhM"
      },
      "execution_count": null,
      "outputs": []
    },
    {
      "cell_type": "markdown",
      "source": [
        "Prediksi dengan menggunakan XGBoost model."
      ],
      "metadata": {
        "id": "Cb5cuREsqWcR"
      }
    },
    {
      "cell_type": "code",
      "source": [
        "predictor.evaluate(test_data, model='XGBoost', silent=True)"
      ],
      "metadata": {
        "id": "r6ckeODKqbVg"
      },
      "execution_count": null,
      "outputs": []
    },
    {
      "cell_type": "markdown",
      "source": [
        "# Tugas 1\n",
        "1. Buatlah model menggunakan AutoML untuk Dataset auto-mpg dataset. \n",
        "\n",
        "* Anda bisa mendapatkan dataset pada link berikut: \n",
        "https://raw.githubusercontent.com/plotly/datasets/master/auto-mpg.csv\n",
        "* Model ini merupakan tugas regresi, dengan kolom target `mpg`.\n",
        "* Secara garis besar langkah-langkah yang akan digunakan sama dengan proses klassifikasi di atas. AutoML akan menentukan secara otomatis tasknya berdasarkan tipe data pada kolom target.\n",
        "* Langkah-langkah pengerjaan di kerjakan pada sel kode di bawah ini. \n",
        "\n",
        "\n"
      ],
      "metadata": {
        "id": "2ELsh7Xpqlo6"
      }
    },
    {
      "cell_type": "markdown",
      "source": [
        "## Deskripsi data:\n",
        "1. Title: Auto-Mpg Data\n",
        "\n",
        "2. Sources:\n",
        "   (a) Origin:  This dataset was taken from the StatLib library which is\n",
        "                maintained at Carnegie Mellon University. The dataset was \n",
        "                used in the 1983 American Statistical Association Exposition.\n",
        "   (c) Date: July 7, 1993\n",
        "\n",
        "3. Past Usage:\n",
        "    -  See 2b (above)\n",
        "    -  Quinlan,R. (1993). Combining Instance-Based and Model-Based Learning.\n",
        "       In Proceedings on the Tenth International Conference of Machine \n",
        "       Learning, 236-243, University of Massachusetts, Amherst. Morgan\n",
        "       Kaufmann.\n",
        "\n",
        "4. Relevant Information:\n",
        "\n",
        "   This dataset is a slightly modified version of the dataset provided in\n",
        "   the StatLib library.  In line with the use by Ross Quinlan (1993) in\n",
        "   predicting the attribute \"mpg\", 8 of the original instances were removed \n",
        "   because they had unknown values for the \"mpg\" attribute.  The original \n",
        "   dataset is available in the file \"auto-mpg.data-original\".\n",
        "\n",
        "   \"The data concerns city-cycle fuel consumption in miles per gallon,\n",
        "    to be predicted in terms of 3 multivalued discrete and 5 continuous\n",
        "    attributes.\" (Quinlan, 1993)\n",
        "\n",
        "5. Number of Instances: 398\n",
        "\n",
        "6. Number of Attributes: 9 including the class attribute\n",
        "\n",
        "7. Attribute Information:\n",
        "\n",
        "    1. mpg:           continuous\n",
        "    2. cylinders:     multi-valued discrete\n",
        "    3. displacement:  continuous\n",
        "    4. horsepower:    continuous\n",
        "    5. weight:        continuous\n",
        "    6. acceleration:  continuous\n",
        "    7. model year:    multi-valued discrete\n",
        "    8. origin:        multi-valued discrete\n",
        "    9. car name:      string (unique for each instance)\n",
        "\n",
        "8. Missing Attribute Values:  horsepower has 6 missing values\n"
      ],
      "metadata": {
        "id": "K7YJ0cbLvEsf"
      }
    },
    {
      "cell_type": "code",
      "source": [
        "# 1. Membuat training data berdasarkan URL yang diberikan\n",
        "\n",
        "# <<<<<<KODE ANDA DI SINI>>>>>>>>\n",
        "\n"
      ],
      "metadata": {
        "id": "oi3KG00ztSyN"
      },
      "execution_count": null,
      "outputs": []
    },
    {
      "cell_type": "code",
      "source": [
        "# 2. Menentukan kolom target\n",
        "\n",
        "# <<<<<<KODE ANDA DI SINI>>>>>>>>\n",
        "\n"
      ],
      "metadata": {
        "id": "uKbQSa44tc-B"
      },
      "execution_count": null,
      "outputs": []
    },
    {
      "cell_type": "code",
      "source": [
        "# 3. Fitting model dengan AutoML\n",
        "\n",
        "# <<<<<<KODE ANDA DI SINI>>>>>>>>\n",
        "\n",
        "\n"
      ],
      "metadata": {
        "id": "kt9XhG70tl4Q"
      },
      "execution_count": null,
      "outputs": []
    },
    {
      "cell_type": "code",
      "source": [
        "# 4. Evaluate minimal 3 model terbaik\n",
        "#    Gunakan data yang sama untuk evaluasi (karena kita tidak punya data testing)\n",
        "\n",
        "# <<<<<<KODE ANDA DI SINI>>>>>>>>\n",
        "\n"
      ],
      "metadata": {
        "id": "zfNHQEBQto8o"
      },
      "execution_count": null,
      "outputs": []
    },
    {
      "cell_type": "markdown",
      "source": [
        "## Pertanyaan 2\n",
        "1. Berdasarkan hasil pelatihan dan evaluasi pada data auto-mpg, metric apa yang menggambarkan performa model tersebut? Jelaskan tentang metric tersebut!\n",
        "\n",
        "2. Sebutkan 3 model terbaik dan score performanya!\n",
        "\n",
        "3. Pilihlah model yang kiranya paling baik dari sisi performa ataupun waktu inferensinya! Jelaskan mengapa Anda memilih model tersebut!\n"
      ],
      "metadata": {
        "id": "1PwxQq8WuFbi"
      }
    }
  ]
}